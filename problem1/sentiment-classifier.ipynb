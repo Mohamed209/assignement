{
 "cells": [
  {
   "cell_type": "code",
   "execution_count": 66,
   "metadata": {},
   "outputs": [
    {
     "name": "stderr",
     "output_type": "stream",
     "text": [
      "[nltk_data] Downloading package stopwords to /home/mohamed-\n",
      "[nltk_data]     mossad/nltk_data...\n",
      "[nltk_data]   Package stopwords is already up-to-date!\n"
     ]
    }
   ],
   "source": [
    "# import necessary packages\n",
    "import numpy as np  \n",
    "import re  \n",
    "import nltk\n",
    "import pandas as pd\n",
    "nltk.download('stopwords')  \n",
    "import pickle  \n",
    "import seaborn as sn\n",
    "from nltk.corpus import stopwords  \n",
    "from nltk.stem import WordNetLemmatizer\n",
    "from sklearn.feature_extraction.text import TfidfVectorizer  \n",
    "from sklearn.model_selection import train_test_split\n",
    "from sklearn.metrics import classification_report, confusion_matrix, accuracy_score\n",
    "from sklearn.ensemble import RandomForestClassifier"
   ]
  },
  {
   "cell_type": "code",
   "execution_count": 67,
   "metadata": {},
   "outputs": [
    {
     "data": {
      "text/html": [
       "<div>\n",
       "<style scoped>\n",
       "    .dataframe tbody tr th:only-of-type {\n",
       "        vertical-align: middle;\n",
       "    }\n",
       "\n",
       "    .dataframe tbody tr th {\n",
       "        vertical-align: top;\n",
       "    }\n",
       "\n",
       "    .dataframe thead th {\n",
       "        text-align: right;\n",
       "    }\n",
       "</style>\n",
       "<table border=\"1\" class=\"dataframe\">\n",
       "  <thead>\n",
       "    <tr style=\"text-align: right;\">\n",
       "      <th></th>\n",
       "      <th>airline_sentiment</th>\n",
       "      <th>text</th>\n",
       "    </tr>\n",
       "  </thead>\n",
       "  <tbody>\n",
       "    <tr>\n",
       "      <th>0</th>\n",
       "      <td>neutral</td>\n",
       "      <td>what said</td>\n",
       "    </tr>\n",
       "    <tr>\n",
       "      <th>1</th>\n",
       "      <td>positive</td>\n",
       "      <td>plus you ve added commercials to the experien...</td>\n",
       "    </tr>\n",
       "    <tr>\n",
       "      <th>2</th>\n",
       "      <td>neutral</td>\n",
       "      <td>i didn t today must mean i need to take anoth...</td>\n",
       "    </tr>\n",
       "    <tr>\n",
       "      <th>3</th>\n",
       "      <td>negative</td>\n",
       "      <td>it s really aggressive to blast obnoxious ent...</td>\n",
       "    </tr>\n",
       "    <tr>\n",
       "      <th>4</th>\n",
       "      <td>negative</td>\n",
       "      <td>and it s a really big bad thing about it</td>\n",
       "    </tr>\n",
       "  </tbody>\n",
       "</table>\n",
       "</div>"
      ],
      "text/plain": [
       "  airline_sentiment                                               text\n",
       "0           neutral                                         what said \n",
       "1          positive   plus you ve added commercials to the experien...\n",
       "2           neutral   i didn t today must mean i need to take anoth...\n",
       "3          negative   it s really aggressive to blast obnoxious ent...\n",
       "4          negative           and it s a really big bad thing about it"
      ]
     },
     "execution_count": 67,
     "metadata": {},
     "output_type": "execute_result"
    }
   ],
   "source": [
    "#read the dataset\n",
    "dataset=pd.read_csv('dataset/processed/clean-text.csv')\n",
    "dataset.drop(['Unnamed: 0'],axis=1,inplace=True)\n",
    "NO_OF_CLASSES=3 # 3 sentiment\n",
    "dataset.head()"
   ]
  },
  {
   "cell_type": "code",
   "execution_count": 69,
   "metadata": {},
   "outputs": [
    {
     "data": {
      "text/plain": [
       "['what said',\n",
       " u'plus you ve added commercial to the experience tacky',\n",
       " 'i didn t today must mean i need to take another trip',\n",
       " u'it s really aggressive to blast obnoxious entertainment in your guest face amp they have little recourse',\n",
       " 'and it s a really big bad thing about it',\n",
       " u'seriously would pay 30 a flight for seat that didn t have this playing it s really the only bad thing about flying va',\n",
       " 'yes nearly every time i fly vx this ear worm won t go away',\n",
       " u'really missed a prime opportunity for men without hat parody there',\n",
       " 'well i didn t but now i do d',\n",
       " u'it wa amazing and arrived an hour early you re too good to me']"
      ]
     },
     "execution_count": 69,
     "metadata": {},
     "output_type": "execute_result"
    }
   ],
   "source": [
    "# text preprocessing\n",
    "# stemming\n",
    "documents = []\n",
    "stemmer = WordNetLemmatizer()\n",
    "for i in range(len(dataset['text'])):\n",
    "    # Lemmatization\n",
    "    document = dataset['text'][i].split()\n",
    "    document = [stemmer.lemmatize(word) for word in document]\n",
    "    document = ' '.join(document)\n",
    "    documents.append(document)\n",
    "documents[:10] # show sample of preprocessed text"
   ]
  },
  {
   "cell_type": "code",
   "execution_count": 70,
   "metadata": {},
   "outputs": [],
   "source": [
    "# data preprocrssing convert text into numeric values using tf-idf vectorizer\n",
    "tfidfconverter = TfidfVectorizer(max_features=1500, min_df=5, max_df=0.7, stop_words=stopwords.words('english'))  \n",
    "X = tfidfconverter.fit_transform(documents).toarray()\n",
    "y=dataset['airline_sentiment'].values"
   ]
  },
  {
   "cell_type": "code",
   "execution_count": 71,
   "metadata": {},
   "outputs": [],
   "source": [
    "# train test split\n",
    "X_train, X_test, y_train, y_test = train_test_split(X, y, test_size=0.2, random_state=0)"
   ]
  },
  {
   "cell_type": "code",
   "execution_count": 72,
   "metadata": {},
   "outputs": [],
   "source": [
    "# model training\n",
    "text_classifier = RandomForestClassifier()\n",
    "text_classifier.fit(X_train, y_train) \n",
    "predictions = text_classifier.predict(X_test)"
   ]
  },
  {
   "cell_type": "code",
   "execution_count": 73,
   "metadata": {},
   "outputs": [
    {
     "data": {
      "text/plain": [
       "<matplotlib.axes._subplots.AxesSubplot at 0x7efc9531c450>"
      ]
     },
     "execution_count": 73,
     "metadata": {},
     "output_type": "execute_result"
    },
    {
     "data": {
      "image/png": "[encoded data removed]",
      "text/plain": [
       "<matplotlib.figure.Figure at 0x7efcadba7e50>"
      ]
     },
     "metadata": {},
     "output_type": "display_data"
    }
   ],
   "source": [
    "# confusion matrix \n",
    "df_cm = pd.DataFrame(confusion_matrix(y_test, predictions), range(NO_OF_CLASSES),\n",
    "                  range(NO_OF_CLASSES))\n",
    "sn.set(font_scale=1.4)#for label size\n",
    "sn.heatmap(df_cm, annot=True,annot_kws={\"size\": 20})"
   ]
  },
  {
   "cell_type": "code",
   "execution_count": 74,
   "metadata": {},
   "outputs": [
    {
     "name": "stdout",
     "output_type": "stream",
     "text": [
      "Classification Report :\n",
      "               precision    recall  f1-score   support\n",
      "\n",
      "    negative       0.79      0.89      0.84      1870\n",
      "     neutral       0.58      0.46      0.51       614\n",
      "    positive       0.70      0.52      0.60       444\n",
      "\n",
      "   micro avg       0.75      0.75      0.75      2928\n",
      "   macro avg       0.69      0.63      0.65      2928\n",
      "weighted avg       0.73      0.75      0.73      2928\n",
      " \n",
      " Model Acurracy = 0.746584699454\n"
     ]
    }
   ],
   "source": [
    "print(\"Classification Report :\\n {} \\n Model Acurracy = {}\".format(classification_report(y_test,predictions),\n",
    "                                                                 accuracy_score(y_test, predictions)))"
   ]
  },
  {
   "cell_type": "code",
   "execution_count": null,
   "metadata": {},
   "outputs": [],
   "source": []
  }
 ],
 "metadata": {
  "kernelspec": {
   "display_name": "Python 3",
   "language": "python",
   "name": "python3"
  },
  "language_info": {
   "codemirror_mode": {
    "name": "ipython",
    "version": 2
   },
   "file_extension": ".py",
   "mimetype": "text/x-python",
   "name": "python",
   "nbconvert_exporter": "python",
   "pygments_lexer": "ipython2",
   "version": "2.7.16"
  }
 },
 "nbformat": 4,
 "nbformat_minor": 2
}
